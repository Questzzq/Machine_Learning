{
 "cells": [
  {
   "cell_type": "markdown",
   "metadata": {},
   "source": [
    "### 目录\n",
    "#### 1. 了解数据\n",
    "##### 1.1 导入训练数据与测试数据\n",
    "##### 1.2 可视化数据\n",
    "#### 2. 数据清洗\n",
    "##### 2.1 缺失值处理\n",
    "##### 2.2 异常值处理\n",
    "#### 3. 特征工程\n",
    "##### 3.1 主成分分析 （PCA）\n",
    "##### 3.2 线性判别分析法（LDA）\n",
    "#### 4. 划分训练集/验证集\n",
    "##### 4.1 归一化\n",
    "##### 4.2 划分训练集/验证集\n",
    "#### 5. 定义评估方法\n",
    "#### 6. 构建神经网络\n",
    "##### 6.1 训练模型\n",
    "#### 7. 利用测试集评估学习结果"
   ]
  },
  {
   "cell_type": "markdown",
   "metadata": {},
   "source": [
    "---"
   ]
  },
  {
   "cell_type": "markdown",
   "metadata": {},
   "source": [
    "#### 1. 可视化数据\n",
    "##### 1.1 导入训练数据与测试数据\n",
    "\n",
    "+ **data** 保存 **train.csv**\n",
    "+ **features** 保存 **train.csv** 的特征\n",
    "+ **prices** 保存 **train.csv** 的目标值\n",
    "---\n",
    "+ **test_features** 保存 **test.csv**，即保存 **test.csv** 的特征"
   ]
  },
  {
   "cell_type": "code",
   "execution_count": 1,
   "metadata": {},
   "outputs": [],
   "source": [
    "import pandas as pd\n",
    "import numpy as np\n",
    "import matplotlib.pyplot as plt\n",
    "import matplotlib.pyplot as plt\n",
    "\n",
    "# Seperate the features and target value from the train.csv\n",
    "# features 十三维的特征\n",
    "# 目标值是房价： prices\n",
    "data = pd.read_csv('../Row_Data/train.csv')\n",
    "prices = data['medv']\n",
    "features = data.drop('medv', axis = 1)\n",
    "test_features = pd.read_csv('../Row_Data/test.csv')"
   ]
  },
  {
   "cell_type": "code",
   "execution_count": 2,
   "metadata": {},
   "outputs": [
    {
     "name": "stdout",
     "output_type": "stream",
     "text": [
      "Statistics for Boston housing dataset:\n",
      "Minimum price: \t$ 5.0\n",
      "Maximum price: \t$ 50.0\n",
      "Mean price: \t$ 22.76876876876877\n",
      "Median price: \t$ 21.6\n",
      "Standard deviation of prices: \t$ 9.159683694919632\n"
     ]
    }
   ],
   "source": [
    "#目标：计算房价的最小值\n",
    "minimum_price = min(prices)\n",
    "\n",
    "#目标：计算房价的最大值\n",
    "maximum_price = max(prices)\n",
    "\n",
    "#目标：计算房价的平均值\n",
    "mean_price = np.mean(prices)\n",
    "\n",
    "#目标：计算房价的中值\n",
    "median_price = np.median(prices)\n",
    "\n",
    "#目标：计算房价的标准差\n",
    "std_price = np.std(prices)\n",
    "\n",
    "#目标：输出计算的结果\n",
    "print(\"Statistics for Boston housing dataset:\")\n",
    "print(\"Minimum price: \\t$\", minimum_price)\n",
    "print(\"Maximum price: \\t$\", maximum_price)\n",
    "print(\"Mean price: \\t$\", mean_price)\n",
    "print(\"Median price: \\t$\", median_price)\n",
    "print(\"Standard deviation of prices: \\t$\", std_price)"
   ]
  },
  {
   "cell_type": "code",
   "execution_count": 3,
   "metadata": {},
   "outputs": [
    {
     "data": {
      "text/html": [
       "<div>\n",
       "<style scoped>\n",
       "    .dataframe tbody tr th:only-of-type {\n",
       "        vertical-align: middle;\n",
       "    }\n",
       "\n",
       "    .dataframe tbody tr th {\n",
       "        vertical-align: top;\n",
       "    }\n",
       "\n",
       "    .dataframe thead th {\n",
       "        text-align: right;\n",
       "    }\n",
       "</style>\n",
       "<table border=\"1\" class=\"dataframe\">\n",
       "  <thead>\n",
       "    <tr style=\"text-align: right;\">\n",
       "      <th></th>\n",
       "      <th>ID</th>\n",
       "      <th>crim</th>\n",
       "      <th>zn</th>\n",
       "      <th>indus</th>\n",
       "      <th>chas</th>\n",
       "      <th>nox</th>\n",
       "      <th>rm</th>\n",
       "      <th>age</th>\n",
       "      <th>dis</th>\n",
       "      <th>rad</th>\n",
       "      <th>tax</th>\n",
       "      <th>ptratio</th>\n",
       "      <th>black</th>\n",
       "      <th>lstat</th>\n",
       "    </tr>\n",
       "  </thead>\n",
       "  <tbody>\n",
       "    <tr>\n",
       "      <th>count</th>\n",
       "      <td>333.000000</td>\n",
       "      <td>333.000000</td>\n",
       "      <td>333.000000</td>\n",
       "      <td>333.000000</td>\n",
       "      <td>333.000000</td>\n",
       "      <td>333.000000</td>\n",
       "      <td>333.000000</td>\n",
       "      <td>333.000000</td>\n",
       "      <td>333.000000</td>\n",
       "      <td>333.000000</td>\n",
       "      <td>333.000000</td>\n",
       "      <td>333.000000</td>\n",
       "      <td>333.000000</td>\n",
       "      <td>333.000000</td>\n",
       "    </tr>\n",
       "    <tr>\n",
       "      <th>mean</th>\n",
       "      <td>250.951952</td>\n",
       "      <td>3.360341</td>\n",
       "      <td>10.689189</td>\n",
       "      <td>11.293483</td>\n",
       "      <td>0.060060</td>\n",
       "      <td>0.557144</td>\n",
       "      <td>6.265619</td>\n",
       "      <td>68.226426</td>\n",
       "      <td>3.709934</td>\n",
       "      <td>9.633634</td>\n",
       "      <td>409.279279</td>\n",
       "      <td>18.448048</td>\n",
       "      <td>359.466096</td>\n",
       "      <td>12.515435</td>\n",
       "    </tr>\n",
       "    <tr>\n",
       "      <th>std</th>\n",
       "      <td>147.859438</td>\n",
       "      <td>7.352272</td>\n",
       "      <td>22.674762</td>\n",
       "      <td>6.998123</td>\n",
       "      <td>0.237956</td>\n",
       "      <td>0.114955</td>\n",
       "      <td>0.703952</td>\n",
       "      <td>28.133344</td>\n",
       "      <td>1.981123</td>\n",
       "      <td>8.742174</td>\n",
       "      <td>170.841988</td>\n",
       "      <td>2.151821</td>\n",
       "      <td>86.584567</td>\n",
       "      <td>7.067781</td>\n",
       "    </tr>\n",
       "    <tr>\n",
       "      <th>min</th>\n",
       "      <td>1.000000</td>\n",
       "      <td>0.006320</td>\n",
       "      <td>0.000000</td>\n",
       "      <td>0.740000</td>\n",
       "      <td>0.000000</td>\n",
       "      <td>0.385000</td>\n",
       "      <td>3.561000</td>\n",
       "      <td>6.000000</td>\n",
       "      <td>1.129600</td>\n",
       "      <td>1.000000</td>\n",
       "      <td>188.000000</td>\n",
       "      <td>12.600000</td>\n",
       "      <td>3.500000</td>\n",
       "      <td>1.730000</td>\n",
       "    </tr>\n",
       "    <tr>\n",
       "      <th>25%</th>\n",
       "      <td>123.000000</td>\n",
       "      <td>0.078960</td>\n",
       "      <td>0.000000</td>\n",
       "      <td>5.130000</td>\n",
       "      <td>0.000000</td>\n",
       "      <td>0.453000</td>\n",
       "      <td>5.884000</td>\n",
       "      <td>45.400000</td>\n",
       "      <td>2.122400</td>\n",
       "      <td>4.000000</td>\n",
       "      <td>279.000000</td>\n",
       "      <td>17.400000</td>\n",
       "      <td>376.730000</td>\n",
       "      <td>7.180000</td>\n",
       "    </tr>\n",
       "    <tr>\n",
       "      <th>50%</th>\n",
       "      <td>244.000000</td>\n",
       "      <td>0.261690</td>\n",
       "      <td>0.000000</td>\n",
       "      <td>9.900000</td>\n",
       "      <td>0.000000</td>\n",
       "      <td>0.538000</td>\n",
       "      <td>6.202000</td>\n",
       "      <td>76.700000</td>\n",
       "      <td>3.092300</td>\n",
       "      <td>5.000000</td>\n",
       "      <td>330.000000</td>\n",
       "      <td>19.000000</td>\n",
       "      <td>392.050000</td>\n",
       "      <td>10.970000</td>\n",
       "    </tr>\n",
       "    <tr>\n",
       "      <th>75%</th>\n",
       "      <td>377.000000</td>\n",
       "      <td>3.678220</td>\n",
       "      <td>12.500000</td>\n",
       "      <td>18.100000</td>\n",
       "      <td>0.000000</td>\n",
       "      <td>0.631000</td>\n",
       "      <td>6.595000</td>\n",
       "      <td>93.800000</td>\n",
       "      <td>5.116700</td>\n",
       "      <td>24.000000</td>\n",
       "      <td>666.000000</td>\n",
       "      <td>20.200000</td>\n",
       "      <td>396.240000</td>\n",
       "      <td>16.420000</td>\n",
       "    </tr>\n",
       "    <tr>\n",
       "      <th>max</th>\n",
       "      <td>506.000000</td>\n",
       "      <td>73.534100</td>\n",
       "      <td>100.000000</td>\n",
       "      <td>27.740000</td>\n",
       "      <td>1.000000</td>\n",
       "      <td>0.871000</td>\n",
       "      <td>8.725000</td>\n",
       "      <td>100.000000</td>\n",
       "      <td>10.710300</td>\n",
       "      <td>24.000000</td>\n",
       "      <td>711.000000</td>\n",
       "      <td>21.200000</td>\n",
       "      <td>396.900000</td>\n",
       "      <td>37.970000</td>\n",
       "    </tr>\n",
       "  </tbody>\n",
       "</table>\n",
       "</div>"
      ],
      "text/plain": [
       "               ID        crim          zn       indus        chas         nox  \\\n",
       "count  333.000000  333.000000  333.000000  333.000000  333.000000  333.000000   \n",
       "mean   250.951952    3.360341   10.689189   11.293483    0.060060    0.557144   \n",
       "std    147.859438    7.352272   22.674762    6.998123    0.237956    0.114955   \n",
       "min      1.000000    0.006320    0.000000    0.740000    0.000000    0.385000   \n",
       "25%    123.000000    0.078960    0.000000    5.130000    0.000000    0.453000   \n",
       "50%    244.000000    0.261690    0.000000    9.900000    0.000000    0.538000   \n",
       "75%    377.000000    3.678220   12.500000   18.100000    0.000000    0.631000   \n",
       "max    506.000000   73.534100  100.000000   27.740000    1.000000    0.871000   \n",
       "\n",
       "               rm         age         dis         rad         tax     ptratio  \\\n",
       "count  333.000000  333.000000  333.000000  333.000000  333.000000  333.000000   \n",
       "mean     6.265619   68.226426    3.709934    9.633634  409.279279   18.448048   \n",
       "std      0.703952   28.133344    1.981123    8.742174  170.841988    2.151821   \n",
       "min      3.561000    6.000000    1.129600    1.000000  188.000000   12.600000   \n",
       "25%      5.884000   45.400000    2.122400    4.000000  279.000000   17.400000   \n",
       "50%      6.202000   76.700000    3.092300    5.000000  330.000000   19.000000   \n",
       "75%      6.595000   93.800000    5.116700   24.000000  666.000000   20.200000   \n",
       "max      8.725000  100.000000   10.710300   24.000000  711.000000   21.200000   \n",
       "\n",
       "            black       lstat  \n",
       "count  333.000000  333.000000  \n",
       "mean   359.466096   12.515435  \n",
       "std     86.584567    7.067781  \n",
       "min      3.500000    1.730000  \n",
       "25%    376.730000    7.180000  \n",
       "50%    392.050000   10.970000  \n",
       "75%    396.240000   16.420000  \n",
       "max    396.900000   37.970000  "
      ]
     },
     "execution_count": 3,
     "metadata": {},
     "output_type": "execute_result"
    }
   ],
   "source": [
    "features.describe()"
   ]
  },
  {
   "cell_type": "markdown",
   "metadata": {},
   "source": [
    "##### 1.2 先随便挑选几个特征来可视化 "
   ]
  },
  {
   "cell_type": "code",
   "execution_count": 4,
   "metadata": {},
   "outputs": [
    {
     "data": {
      "image/png": "[encoded data removed]",
      "text/plain": [
       "<Figure size 432x288 with 1 Axes>"
      ]
     },
     "metadata": {
      "needs_background": "light"
     },
     "output_type": "display_data"
    },
    {
     "data": {
      "image/png": "[encoded data removed]",
      "text/plain": [
       "<Figure size 432x288 with 1 Axes>"
      ]
     },
     "metadata": {
      "needs_background": "light"
     },
     "output_type": "display_data"
    },
    {
     "data": {
      "image/png": "[encoded data removed]",
      "text/plain": [
       "<Figure size 432x288 with 1 Axes>"
      ]
     },
     "metadata": {
      "needs_background": "light"
     },
     "output_type": "display_data"
    },
    {
     "data": {
      "image/png": "[encoded data removed]",
      "text/plain": [
       "<Figure size 432x288 with 1 Axes>"
      ]
     },
     "metadata": {
      "needs_background": "light"
     },
     "output_type": "display_data"
    }
   ],
   "source": [
    "# 画出 features.crim 图像\n",
    "plt.figure()\n",
    "plt.plot(features.crim, color=\"cornflowerblue\", label=\"crim\", linewidth=1)\n",
    "plt.ylabel(\"crim\")\n",
    "plt.title(\"The first feature: crim\\n\")\n",
    "plt.legend()\n",
    "plt.show()\n",
    "\n",
    "# 画出 features.zn 图像\n",
    "plt.figure()\n",
    "plt.plot(features.zn, color=\"yellowgreen\", label=\"zn\", linewidth=1)\n",
    "plt.ylabel(\"zn\")\n",
    "plt.title(\"The second feature: zn\\n\")\n",
    "plt.legend()\n",
    "plt.show()\n",
    "\n",
    "# 画出 features.indus 图像\n",
    "plt.figure()\n",
    "plt.plot(features.indus, color=\"red\", label=\"indus\", linewidth=1)\n",
    "plt.ylabel(\"indus\")\n",
    "plt.title(\"The third feature: indus\\n\")\n",
    "plt.legend()\n",
    "plt.show()\n",
    "\n",
    "# 画出 values 图像\n",
    "plt.figure()\n",
    "plt.plot(prices, color=\"black\", label=\"medv\", linewidth=1)\n",
    "plt.ylabel(\"medv\")\n",
    "plt.title(\"The target value: medv\\n\")\n",
    "plt.legend()\n",
    "plt.show()"
   ]
  },
  {
   "cell_type": "markdown",
   "metadata": {},
   "source": [
    "#### 2. 数据清洗\n",
    "##### 2.1 缺失值处理"
   ]
  },
  {
   "cell_type": "code",
   "execution_count": 5,
   "metadata": {
    "scrolled": true
   },
   "outputs": [
    {
     "name": "stdout",
     "output_type": "stream",
     "text": [
      "0\n",
      "0\n",
      "0\n",
      "0\n",
      "0\n",
      "0\n",
      "0\n",
      "0\n",
      "0\n",
      "0\n",
      "0\n",
      "0\n",
      "0\n",
      "0\n",
      "空值个数为： 0\n",
      "无缺失值\n",
      "<class 'pandas.core.frame.DataFrame'>\n",
      "RangeIndex: 333 entries, 0 to 332\n",
      "Data columns (total 15 columns):\n",
      "ID         333 non-null int64\n",
      "crim       333 non-null float64\n",
      "zn         333 non-null float64\n",
      "indus      333 non-null float64\n",
      "chas       333 non-null int64\n",
      "nox        333 non-null float64\n",
      "rm         333 non-null float64\n",
      "age        333 non-null float64\n",
      "dis        333 non-null float64\n",
      "rad        333 non-null int64\n",
      "tax        333 non-null int64\n",
      "ptratio    333 non-null float64\n",
      "black      333 non-null float64\n",
      "lstat      333 non-null float64\n",
      "medv       333 non-null float64\n",
      "dtypes: float64(11), int64(4)\n",
      "memory usage: 39.1 KB\n"
     ]
    }
   ],
   "source": [
    "# 缺失值处理\n",
    "count = 0\n",
    "for i in features:\n",
    "    count += features[i].isnull().sum()\n",
    "    print(features[i].isnull().sum())\n",
    "print(\"空值个数为：\", count)\n",
    "if(count == 0):\n",
    "    print(\"无缺失值\")\n",
    "data.info()"
   ]
  },
  {
   "cell_type": "markdown",
   "metadata": {},
   "source": [
    "##### 2.2 异常值处理"
   ]
  },
  {
   "cell_type": "code",
   "execution_count": 6,
   "metadata": {
    "scrolled": true
   },
   "outputs": [
    {
     "data": {
      "text/plain": [
       "<matplotlib.axes._subplots.AxesSubplot at 0x22f9fccbd30>"
      ]
     },
     "execution_count": 6,
     "metadata": {},
     "output_type": "execute_result"
    },
    {
     "data": {
      "image/png": "[encoded data removed]",
      "text/plain": [
       "<Figure size 432x288 with 1 Axes>"
      ]
     },
     "metadata": {},
     "output_type": "display_data"
    }
   ],
   "source": [
    "# 异常值处理\n",
    "import seaborn as sns\n",
    "sns.set_style('darkgrid')\n",
    "sns.distplot(features.indus)\n",
    "#sns.distplot(features.zn)\n",
    "#sns.distplot(features.black)\n",
    "#sns.distplot(features.crim)"
   ]
  },
  {
   "cell_type": "markdown",
   "metadata": {},
   "source": [
    "#### 3. 特征工程\n",
    "###### 在进行特征工程的时候，我们不仅需要对训练数据进行处理，还需要同时将测试数据同训练数据一起处理，使得二者具有相同的数据类型和数据分布。\n",
    "##### 3.1 主成分分析 （PCA）"
   ]
  },
  {
   "cell_type": "code",
   "execution_count": 7,
   "metadata": {},
   "outputs": [
    {
     "data": {
      "text/plain": [
       "array([[-119.75386175,   -7.83917519,   -3.16445772,    6.19441862,\n",
       "          -4.07667334,    5.37050041,   -0.74070188,    5.42597745,\n",
       "           1.75017944,   -0.27564841],\n",
       "       [-169.50276671,    5.83441619,  -30.51712067,    1.48637459,\n",
       "          -0.76489749,    3.13517314,   -0.23434761,    1.03205475,\n",
       "          -0.50255232,    1.39595369],\n",
       "       [-191.19936724,   12.90321916,   -5.63890319,  -18.76641735,\n",
       "          -1.22476344,    7.09343101,   -0.37123921,    1.00983758,\n",
       "          -1.19008723,    1.03688806]])"
      ]
     },
     "execution_count": 7,
     "metadata": {},
     "output_type": "execute_result"
    }
   ],
   "source": [
    "# 用 PCA 从 13 维度降至 10 维度 \n",
    "# 先去掉ID\n",
    "features = features.drop('ID', axis = 1)\n",
    "features\n",
    "from sklearn.decomposition import PCA\n",
    "pca = PCA(n_components = 10)\n",
    "newfeatures = pca.fit_transform(features)\n",
    "# 查看前 3 行\n",
    "newfeatures[:3]"
   ]
  },
  {
   "cell_type": "markdown",
   "metadata": {},
   "source": [
    "##### 所以也要对测试集进行同样的特征提取"
   ]
  },
  {
   "cell_type": "code",
   "execution_count": 8,
   "metadata": {},
   "outputs": [
    {
     "data": {
      "text/plain": [
       "array([[-2.85930687e+02, -1.10470514e+02, -1.20487981e+01,\n",
       "        -1.74238056e+00,  1.26762752e+01,  2.22742100e+00,\n",
       "        -6.80047276e+00, -3.87880878e-01, -5.19409555e-01,\n",
       "         2.21114340e-01],\n",
       "       [-2.99800734e+02, -9.89771125e+01, -2.54333106e+00,\n",
       "        -3.11094455e+00,  1.36107221e+01,  3.40242673e+00,\n",
       "        -5.58048307e+00, -5.25331323e+00, -1.55450473e-02,\n",
       "         8.66134949e-01],\n",
       "       [-2.30243717e+02, -1.36657567e+02, -4.98453689e+01,\n",
       "        -9.62168300e+00, -1.90663105e+01, -1.01370445e+00,\n",
       "         3.94229280e+00, -3.59280627e+00, -4.76769364e-02,\n",
       "        -2.23420842e+00]])"
      ]
     },
     "execution_count": 8,
     "metadata": {},
     "output_type": "execute_result"
    }
   ],
   "source": [
    "# 用 PCA 从 13 维度降至 10 维度 \n",
    "# 先去掉ID\n",
    "from sklearn.decomposition import PCA\n",
    "pca = PCA(n_components = 10)\n",
    "test_newfeatures = pca.fit_transform(test_features)\n",
    "# 查看前 3 行\n",
    "test_newfeatures[:3]"
   ]
  },
  {
   "cell_type": "markdown",
   "metadata": {},
   "source": [
    "##### 3.2 线性判别分析法（LDA）"
   ]
  },
  {
   "cell_type": "code",
   "execution_count": 9,
   "metadata": {},
   "outputs": [],
   "source": [
    "# features.shape\n",
    "# prices.shape\n",
    "# 载入 LDA 模型，设置 n_components = 10"
   ]
  },
  {
   "cell_type": "markdown",
   "metadata": {},
   "source": [
    "#### 4. 划分训练集/验证集（把测试集2：8划分成验证集和训练集）\n",
    "####  先归一化数据， 归一化之后再划分\n",
    "##### 4.1 归一化"
   ]
  },
  {
   "cell_type": "markdown",
   "metadata": {},
   "source": [
    "#### 因为各个 feature 的取值范围区别较大，所以对数据进行标准化.\n",
    "#### 标准化 **train.csv** 和 **test.csv** 的每个 feature                               \n",
    "#### 标准化方法：\n",
    "$$\\hat x = {\\frac{x - \\overline x}{s}}$$\n",
    "+ $\\overline x$: 平均数\n",
    "+ $s$: 标准差"
   ]
  },
  {
   "cell_type": "code",
   "execution_count": 10,
   "metadata": {},
   "outputs": [],
   "source": [
    "# 自定义一个最小最大规范化的函数\n",
    "def minmax_normalization(data):\n",
    "    xs_max = np.max(data, axis=0)\n",
    "    xs_min = np.min(data, axis=0)\n",
    "    xs = (1 - 0) * (data - xs_min) / (xs_max - xs_min) + 0\n",
    "    return xs"
   ]
  },
  {
   "cell_type": "code",
   "execution_count": 11,
   "metadata": {},
   "outputs": [
    {
     "data": {
      "text/html": [
       "<div>\n",
       "<style scoped>\n",
       "    .dataframe tbody tr th:only-of-type {\n",
       "        vertical-align: middle;\n",
       "    }\n",
       "\n",
       "    .dataframe tbody tr th {\n",
       "        vertical-align: top;\n",
       "    }\n",
       "\n",
       "    .dataframe thead th {\n",
       "        text-align: right;\n",
       "    }\n",
       "</style>\n",
       "<table border=\"1\" class=\"dataframe\">\n",
       "  <thead>\n",
       "    <tr style=\"text-align: right;\">\n",
       "      <th></th>\n",
       "      <th>ID</th>\n",
       "      <th>crim</th>\n",
       "      <th>zn</th>\n",
       "      <th>indus</th>\n",
       "      <th>chas</th>\n",
       "      <th>nox</th>\n",
       "      <th>rm</th>\n",
       "      <th>age</th>\n",
       "      <th>dis</th>\n",
       "      <th>rad</th>\n",
       "      <th>tax</th>\n",
       "      <th>ptratio</th>\n",
       "      <th>black</th>\n",
       "      <th>lstat</th>\n",
       "      <th>medv</th>\n",
       "    </tr>\n",
       "  </thead>\n",
       "  <tbody>\n",
       "    <tr>\n",
       "      <th>0</th>\n",
       "      <td>0.000000</td>\n",
       "      <td>0.000000</td>\n",
       "      <td>0.180</td>\n",
       "      <td>0.058148</td>\n",
       "      <td>0.0</td>\n",
       "      <td>0.314815</td>\n",
       "      <td>0.583656</td>\n",
       "      <td>0.629787</td>\n",
       "      <td>0.308996</td>\n",
       "      <td>0.000000</td>\n",
       "      <td>0.206501</td>\n",
       "      <td>0.313953</td>\n",
       "      <td>1.000000</td>\n",
       "      <td>0.089680</td>\n",
       "      <td>0.422222</td>\n",
       "    </tr>\n",
       "    <tr>\n",
       "      <th>1</th>\n",
       "      <td>0.001980</td>\n",
       "      <td>0.000285</td>\n",
       "      <td>0.000</td>\n",
       "      <td>0.234444</td>\n",
       "      <td>0.0</td>\n",
       "      <td>0.172840</td>\n",
       "      <td>0.553834</td>\n",
       "      <td>0.775532</td>\n",
       "      <td>0.400545</td>\n",
       "      <td>0.043478</td>\n",
       "      <td>0.103250</td>\n",
       "      <td>0.604651</td>\n",
       "      <td>1.000000</td>\n",
       "      <td>0.204470</td>\n",
       "      <td>0.368889</td>\n",
       "    </tr>\n",
       "    <tr>\n",
       "      <th>2</th>\n",
       "      <td>0.005941</td>\n",
       "      <td>0.000354</td>\n",
       "      <td>0.000</td>\n",
       "      <td>0.053333</td>\n",
       "      <td>0.0</td>\n",
       "      <td>0.150206</td>\n",
       "      <td>0.665569</td>\n",
       "      <td>0.423404</td>\n",
       "      <td>0.514848</td>\n",
       "      <td>0.086957</td>\n",
       "      <td>0.065010</td>\n",
       "      <td>0.709302</td>\n",
       "      <td>0.994230</td>\n",
       "      <td>0.033389</td>\n",
       "      <td>0.631111</td>\n",
       "    </tr>\n",
       "    <tr>\n",
       "      <th>3</th>\n",
       "      <td>0.007921</td>\n",
       "      <td>0.000853</td>\n",
       "      <td>0.000</td>\n",
       "      <td>0.053333</td>\n",
       "      <td>0.0</td>\n",
       "      <td>0.150206</td>\n",
       "      <td>0.694423</td>\n",
       "      <td>0.512766</td>\n",
       "      <td>0.514848</td>\n",
       "      <td>0.086957</td>\n",
       "      <td>0.065010</td>\n",
       "      <td>0.709302</td>\n",
       "      <td>1.000000</td>\n",
       "      <td>0.099338</td>\n",
       "      <td>0.693333</td>\n",
       "    </tr>\n",
       "    <tr>\n",
       "      <th>4</th>\n",
       "      <td>0.011881</td>\n",
       "      <td>0.001115</td>\n",
       "      <td>0.125</td>\n",
       "      <td>0.264074</td>\n",
       "      <td>0.0</td>\n",
       "      <td>0.286008</td>\n",
       "      <td>0.474632</td>\n",
       "      <td>0.644681</td>\n",
       "      <td>0.462482</td>\n",
       "      <td>0.173913</td>\n",
       "      <td>0.235182</td>\n",
       "      <td>0.302326</td>\n",
       "      <td>0.996695</td>\n",
       "      <td>0.295254</td>\n",
       "      <td>0.397778</td>\n",
       "    </tr>\n",
       "  </tbody>\n",
       "</table>\n",
       "</div>"
      ],
      "text/plain": [
       "         ID      crim     zn     indus  chas       nox        rm       age  \\\n",
       "0  0.000000  0.000000  0.180  0.058148   0.0  0.314815  0.583656  0.629787   \n",
       "1  0.001980  0.000285  0.000  0.234444   0.0  0.172840  0.553834  0.775532   \n",
       "2  0.005941  0.000354  0.000  0.053333   0.0  0.150206  0.665569  0.423404   \n",
       "3  0.007921  0.000853  0.000  0.053333   0.0  0.150206  0.694423  0.512766   \n",
       "4  0.011881  0.001115  0.125  0.264074   0.0  0.286008  0.474632  0.644681   \n",
       "\n",
       "        dis       rad       tax   ptratio     black     lstat      medv  \n",
       "0  0.308996  0.000000  0.206501  0.313953  1.000000  0.089680  0.422222  \n",
       "1  0.400545  0.043478  0.103250  0.604651  1.000000  0.204470  0.368889  \n",
       "2  0.514848  0.086957  0.065010  0.709302  0.994230  0.033389  0.631111  \n",
       "3  0.514848  0.086957  0.065010  0.709302  1.000000  0.099338  0.693333  \n",
       "4  0.462482  0.173913  0.235182  0.302326  0.996695  0.295254  0.397778  "
      ]
     },
     "execution_count": 11,
     "metadata": {},
     "output_type": "execute_result"
    }
   ],
   "source": [
    "# 将 data 传入上面的规范化函数 \n",
    "# 规范化得到的数据存放在 m_n_data 中\n",
    "m_n_data = minmax_normalization(data);\n",
    "m_n_data.head()"
   ]
  },
  {
   "cell_type": "markdown",
   "metadata": {},
   "source": [
    "---\n",
    "#### **m_n_features** 保存 **features** 归一化之后的数据\n",
    "#### **prices** 不需要归一化"
   ]
  },
  {
   "cell_type": "code",
   "execution_count": 12,
   "metadata": {},
   "outputs": [],
   "source": [
    "m_n_features = m_n_data.drop('medv', axis = 1)"
   ]
  },
  {
   "cell_type": "markdown",
   "metadata": {},
   "source": [
    "##### 4.2 划分训练集/验证集\n",
    "#### 分割比例为：80%的数据用于训练，20%用于测试 test_size = 0.2\n",
    "#### 将数据集分成训练集和验证集的好处：既可以用于训练又可以用于测试，而且不会相互干扰，而且可以对训练模型进行有效的验证。"
   ]
  },
  {
   "cell_type": "code",
   "execution_count": 21,
   "metadata": {},
   "outputs": [
    {
     "data": {
      "text/html": [
       "<div>\n",
       "<style scoped>\n",
       "    .dataframe tbody tr th:only-of-type {\n",
       "        vertical-align: middle;\n",
       "    }\n",
       "\n",
       "    .dataframe tbody tr th {\n",
       "        vertical-align: top;\n",
       "    }\n",
       "\n",
       "    .dataframe thead th {\n",
       "        text-align: right;\n",
       "    }\n",
       "</style>\n",
       "<table border=\"1\" class=\"dataframe\">\n",
       "  <thead>\n",
       "    <tr style=\"text-align: right;\">\n",
       "      <th></th>\n",
       "      <th>crim</th>\n",
       "      <th>zn</th>\n",
       "      <th>indus</th>\n",
       "      <th>chas</th>\n",
       "      <th>nox</th>\n",
       "      <th>rm</th>\n",
       "      <th>age</th>\n",
       "      <th>dis</th>\n",
       "      <th>rad</th>\n",
       "      <th>tax</th>\n",
       "      <th>ptratio</th>\n",
       "      <th>black</th>\n",
       "      <th>lstat</th>\n",
       "    </tr>\n",
       "  </thead>\n",
       "  <tbody>\n",
       "    <tr>\n",
       "      <th>298</th>\n",
       "      <td>0.092412</td>\n",
       "      <td>0.0</td>\n",
       "      <td>0.642963</td>\n",
       "      <td>0.0</td>\n",
       "      <td>0.674897</td>\n",
       "      <td>0.487994</td>\n",
       "      <td>0.834043</td>\n",
       "      <td>0.165739</td>\n",
       "      <td>1.000000</td>\n",
       "      <td>0.913958</td>\n",
       "      <td>0.883721</td>\n",
       "      <td>1.000000</td>\n",
       "      <td>0.357892</td>\n",
       "    </tr>\n",
       "    <tr>\n",
       "      <th>162</th>\n",
       "      <td>0.004408</td>\n",
       "      <td>0.0</td>\n",
       "      <td>0.202222</td>\n",
       "      <td>0.0</td>\n",
       "      <td>0.251029</td>\n",
       "      <td>0.488962</td>\n",
       "      <td>0.590426</td>\n",
       "      <td>0.263269</td>\n",
       "      <td>0.304348</td>\n",
       "      <td>0.227533</td>\n",
       "      <td>0.558140</td>\n",
       "      <td>0.948780</td>\n",
       "      <td>0.252483</td>\n",
       "    </tr>\n",
       "    <tr>\n",
       "      <th>175</th>\n",
       "      <td>0.007178</td>\n",
       "      <td>0.2</td>\n",
       "      <td>0.119630</td>\n",
       "      <td>0.0</td>\n",
       "      <td>0.539095</td>\n",
       "      <td>0.766654</td>\n",
       "      <td>0.887234</td>\n",
       "      <td>0.105441</td>\n",
       "      <td>0.173913</td>\n",
       "      <td>0.145315</td>\n",
       "      <td>0.046512</td>\n",
       "      <td>0.978317</td>\n",
       "      <td>0.152594</td>\n",
       "    </tr>\n",
       "    <tr>\n",
       "      <th>161</th>\n",
       "      <td>0.006006</td>\n",
       "      <td>0.0</td>\n",
       "      <td>0.202222</td>\n",
       "      <td>1.0</td>\n",
       "      <td>0.251029</td>\n",
       "      <td>0.612897</td>\n",
       "      <td>0.643617</td>\n",
       "      <td>0.263269</td>\n",
       "      <td>0.304348</td>\n",
       "      <td>0.227533</td>\n",
       "      <td>0.558140</td>\n",
       "      <td>0.906711</td>\n",
       "      <td>0.174393</td>\n",
       "    </tr>\n",
       "    <tr>\n",
       "      <th>14</th>\n",
       "      <td>0.011502</td>\n",
       "      <td>0.0</td>\n",
       "      <td>0.274074</td>\n",
       "      <td>0.0</td>\n",
       "      <td>0.314815</td>\n",
       "      <td>0.465531</td>\n",
       "      <td>0.885106</td>\n",
       "      <td>0.300886</td>\n",
       "      <td>0.130435</td>\n",
       "      <td>0.227533</td>\n",
       "      <td>0.976744</td>\n",
       "      <td>0.988892</td>\n",
       "      <td>0.333885</td>\n",
       "    </tr>\n",
       "  </tbody>\n",
       "</table>\n",
       "</div>"
      ],
      "text/plain": [
       "         crim   zn     indus  chas       nox        rm       age       dis  \\\n",
       "298  0.092412  0.0  0.642963   0.0  0.674897  0.487994  0.834043  0.165739   \n",
       "162  0.004408  0.0  0.202222   0.0  0.251029  0.488962  0.590426  0.263269   \n",
       "175  0.007178  0.2  0.119630   0.0  0.539095  0.766654  0.887234  0.105441   \n",
       "161  0.006006  0.0  0.202222   1.0  0.251029  0.612897  0.643617  0.263269   \n",
       "14   0.011502  0.0  0.274074   0.0  0.314815  0.465531  0.885106  0.300886   \n",
       "\n",
       "          rad       tax   ptratio     black     lstat  \n",
       "298  1.000000  0.913958  0.883721  1.000000  0.357892  \n",
       "162  0.304348  0.227533  0.558140  0.948780  0.252483  \n",
       "175  0.173913  0.145315  0.046512  0.978317  0.152594  \n",
       "161  0.304348  0.227533  0.558140  0.906711  0.174393  \n",
       "14   0.130435  0.227533  0.976744  0.988892  0.333885  "
      ]
     },
     "execution_count": 21,
     "metadata": {},
     "output_type": "execute_result"
    }
   ],
   "source": [
    "# Split the dataset as traing set and testing set\n",
    "m_n_features = m_n_features.drop('ID', axis = 1)\n",
    "from sklearn.model_selection import train_test_split\n",
    "X_train, X_test, y_train, y_test =  train_test_split(m_n_features, prices, test_size = 0.2, random_state = 1) # random_state=1:不会随机划分\n",
    "X_train.head()"
   ]
  },
  {
   "cell_type": "markdown",
   "metadata": {},
   "source": [
    "#### **test.csv** PAC 之后也要相应地归一化"
   ]
  },
  {
   "cell_type": "code",
   "execution_count": 20,
   "metadata": {},
   "outputs": [
    {
     "data": {
      "text/html": [
       "<div>\n",
       "<style scoped>\n",
       "    .dataframe tbody tr th:only-of-type {\n",
       "        vertical-align: middle;\n",
       "    }\n",
       "\n",
       "    .dataframe tbody tr th {\n",
       "        vertical-align: top;\n",
       "    }\n",
       "\n",
       "    .dataframe thead th {\n",
       "        text-align: right;\n",
       "    }\n",
       "</style>\n",
       "<table border=\"1\" class=\"dataframe\">\n",
       "  <thead>\n",
       "    <tr style=\"text-align: right;\">\n",
       "      <th></th>\n",
       "      <th>crim</th>\n",
       "      <th>zn</th>\n",
       "      <th>indus</th>\n",
       "      <th>chas</th>\n",
       "      <th>nox</th>\n",
       "      <th>rm</th>\n",
       "      <th>age</th>\n",
       "      <th>dis</th>\n",
       "      <th>rad</th>\n",
       "      <th>tax</th>\n",
       "      <th>ptratio</th>\n",
       "      <th>black</th>\n",
       "      <th>lstat</th>\n",
       "    </tr>\n",
       "  </thead>\n",
       "  <tbody>\n",
       "    <tr>\n",
       "      <th>0</th>\n",
       "      <td>0.000152</td>\n",
       "      <td>0.000000</td>\n",
       "      <td>0.242302</td>\n",
       "      <td>0.0</td>\n",
       "      <td>0.160752</td>\n",
       "      <td>0.656398</td>\n",
       "      <td>0.599382</td>\n",
       "      <td>0.346078</td>\n",
       "      <td>0.043478</td>\n",
       "      <td>0.104962</td>\n",
       "      <td>0.553191</td>\n",
       "      <td>0.989737</td>\n",
       "      <td>0.065023</td>\n",
       "    </tr>\n",
       "    <tr>\n",
       "      <th>1</th>\n",
       "      <td>0.000180</td>\n",
       "      <td>0.000000</td>\n",
       "      <td>0.063050</td>\n",
       "      <td>0.0</td>\n",
       "      <td>0.137787</td>\n",
       "      <td>0.493753</td>\n",
       "      <td>0.574665</td>\n",
       "      <td>0.446102</td>\n",
       "      <td>0.086957</td>\n",
       "      <td>0.066794</td>\n",
       "      <td>0.648936</td>\n",
       "      <td>0.992990</td>\n",
       "      <td>0.101387</td>\n",
       "    </tr>\n",
       "    <tr>\n",
       "      <th>2</th>\n",
       "      <td>0.001470</td>\n",
       "      <td>0.131579</td>\n",
       "      <td>0.271628</td>\n",
       "      <td>0.0</td>\n",
       "      <td>0.275574</td>\n",
       "      <td>0.438173</td>\n",
       "      <td>0.959835</td>\n",
       "      <td>0.435899</td>\n",
       "      <td>0.173913</td>\n",
       "      <td>0.236641</td>\n",
       "      <td>0.276596</td>\n",
       "      <td>1.000000</td>\n",
       "      <td>0.530971</td>\n",
       "    </tr>\n",
       "    <tr>\n",
       "      <th>3</th>\n",
       "      <td>0.002219</td>\n",
       "      <td>0.131579</td>\n",
       "      <td>0.271628</td>\n",
       "      <td>0.0</td>\n",
       "      <td>0.275574</td>\n",
       "      <td>0.321629</td>\n",
       "      <td>1.000000</td>\n",
       "      <td>0.447919</td>\n",
       "      <td>0.173913</td>\n",
       "      <td>0.236641</td>\n",
       "      <td>0.276596</td>\n",
       "      <td>0.974104</td>\n",
       "      <td>0.863174</td>\n",
       "    </tr>\n",
       "    <tr>\n",
       "      <th>4</th>\n",
       "      <td>0.001756</td>\n",
       "      <td>0.131579</td>\n",
       "      <td>0.271628</td>\n",
       "      <td>0.0</td>\n",
       "      <td>0.275574</td>\n",
       "      <td>0.401982</td>\n",
       "      <td>0.854789</td>\n",
       "      <td>0.494501</td>\n",
       "      <td>0.173913</td>\n",
       "      <td>0.236641</td>\n",
       "      <td>0.276596</td>\n",
       "      <td>0.974305</td>\n",
       "      <td>0.467797</td>\n",
       "    </tr>\n",
       "  </tbody>\n",
       "</table>\n",
       "</div>"
      ],
      "text/plain": [
       "       crim        zn     indus  chas       nox        rm       age       dis  \\\n",
       "0  0.000152  0.000000  0.242302   0.0  0.160752  0.656398  0.599382  0.346078   \n",
       "1  0.000180  0.000000  0.063050   0.0  0.137787  0.493753  0.574665  0.446102   \n",
       "2  0.001470  0.131579  0.271628   0.0  0.275574  0.438173  0.959835  0.435899   \n",
       "3  0.002219  0.131579  0.271628   0.0  0.275574  0.321629  1.000000  0.447919   \n",
       "4  0.001756  0.131579  0.271628   0.0  0.275574  0.401982  0.854789  0.494501   \n",
       "\n",
       "        rad       tax   ptratio     black     lstat  \n",
       "0  0.043478  0.104962  0.553191  0.989737  0.065023  \n",
       "1  0.086957  0.066794  0.648936  0.992990  0.101387  \n",
       "2  0.173913  0.236641  0.276596  1.000000  0.530971  \n",
       "3  0.173913  0.236641  0.276596  0.974104  0.863174  \n",
       "4  0.173913  0.236641  0.276596  0.974305  0.467797  "
      ]
     },
     "execution_count": 20,
     "metadata": {},
     "output_type": "execute_result"
    }
   ],
   "source": [
    "# 将 test_features 传入上面的规范化函数 \n",
    "# 先去掉 test_features 的 ID 列\n",
    "test_features = test_features.drop('ID', axis = 1)\n",
    "# 规范化得到的数据存放在 m_n_newfeatures 中\n",
    "m_n_newfeature = minmax_normalization(test_features);\n",
    "m_n_newfeature.head()"
   ]
  },
  {
   "cell_type": "markdown",
   "metadata": {},
   "source": [
    "#### 5. 定义评估方法"
   ]
  },
  {
   "cell_type": "markdown",
   "metadata": {},
   "source": [
    "#### $MSE$ (均方误差 Mean Squared Error): $$MSE = {\\frac{1} {n}}{\\sum_{k=1}^n (y_i - \\hat y_i)^2}$$\n",
    "\n",
    "#### $RMSE$ (均方根误差 Root Mean Squared Error): $$RMSE = \\sqrt{{\\frac{1} {n}}{\\sum_{k=1}^n (y_i - \\hat y_i)^2}}$$\n",
    "+ 模型越好：$RMSE \\to 0$"
   ]
  },
  {
   "cell_type": "code",
   "execution_count": 15,
   "metadata": {},
   "outputs": [],
   "source": [
    "# 自定义一个返回最终残差和的函数\n",
    "from sklearn.metrics import r2_score\n",
    "def performance_metric(y_true,y_predict):\n",
    "    '''计算实际值与预测值的R2分数'''\n",
    "    score = r2_score(y_true,y_predict)\n",
    "    return score"
   ]
  },
  {
   "cell_type": "markdown",
   "metadata": {},
   "source": [
    "#### 6. 构建神经网络\n",
    "##### 6.1 训练模型"
   ]
  },
  {
   "cell_type": "code",
   "execution_count": 16,
   "metadata": {},
   "outputs": [],
   "source": [
    "# DNN \n",
    "\n",
    "\n"
   ]
  },
  {
   "cell_type": "markdown",
   "metadata": {},
   "source": [
    "#### 7. 利用测试集评估学习结果"
   ]
  },
  {
   "cell_type": "code",
   "execution_count": 17,
   "metadata": {},
   "outputs": [],
   "source": [
    "# Evalution\n",
    "\n",
    "\n"
   ]
  }
 ],
 "metadata": {
  "kernelspec": {
   "display_name": "Python 3",
   "language": "python",
   "name": "python3"
  },
  "language_info": {
   "codemirror_mode": {
    "name": "ipython",
    "version": 3
   },
   "file_extension": ".py",
   "mimetype": "text/x-python",
   "name": "python",
   "nbconvert_exporter": "python",
   "pygments_lexer": "ipython3",
   "version": "3.6.8"
  }
 },
 "nbformat": 4,
 "nbformat_minor": 2
}
