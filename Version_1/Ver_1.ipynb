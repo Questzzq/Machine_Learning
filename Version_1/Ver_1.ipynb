{
 "cells": [
  {
   "cell_type": "markdown",
   "metadata": {},
   "source": [
    "### 目录\n",
    "#### 1. 了解数据\n",
    "##### 1.1 导入数据\n",
    "##### 1.2 可视化数据\n",
    "#### 2. 数据清洗\n",
    "##### 2.1 缺失值处理\n",
    "##### 2.2 异常值处理\n",
    "##### 2.3 去除重复的数据\n",
    "##### 2.4 噪音数据的处理\n",
    "#### 3. 特征提取\n",
    "##### 3.1 主成分分析 （PCA）\n",
    "##### 3.2 线性判别分析法（LDA）\n",
    "#### 4. 划分训练集/验证集\n",
    "##### 4.1 归一化\n",
    "##### 4.2 划分训练集/验证集\n",
    "#### 5. 定义评估方法\n",
    "#### 6. 构建神经网络\n",
    "##### 6.1 训练模型\n",
    "#### 7. 利用测试集评估学习结果"
   ]
  },
  {
   "cell_type": "markdown",
   "metadata": {},
   "source": [
    "---"
   ]
  },
  {
   "cell_type": "markdown",
   "metadata": {},
   "source": [
    "#### 1. 可视化数据\n",
    "##### 1.1 导入数据"
   ]
  },
  {
   "cell_type": "code",
   "execution_count": 1,
   "metadata": {},
   "outputs": [
    {
     "data": {
      "text/html": [
       "<div>\n",
       "<style scoped>\n",
       "    .dataframe tbody tr th:only-of-type {\n",
       "        vertical-align: middle;\n",
       "    }\n",
       "\n",
       "    .dataframe tbody tr th {\n",
       "        vertical-align: top;\n",
       "    }\n",
       "\n",
       "    .dataframe thead th {\n",
       "        text-align: right;\n",
       "    }\n",
       "</style>\n",
       "<table border=\"1\" class=\"dataframe\">\n",
       "  <thead>\n",
       "    <tr style=\"text-align: right;\">\n",
       "      <th></th>\n",
       "      <th>ID</th>\n",
       "      <th>crim</th>\n",
       "      <th>zn</th>\n",
       "      <th>indus</th>\n",
       "      <th>chas</th>\n",
       "      <th>nox</th>\n",
       "      <th>rm</th>\n",
       "      <th>age</th>\n",
       "      <th>dis</th>\n",
       "      <th>rad</th>\n",
       "      <th>tax</th>\n",
       "      <th>ptratio</th>\n",
       "      <th>black</th>\n",
       "      <th>lstat</th>\n",
       "      <th>medv</th>\n",
       "    </tr>\n",
       "  </thead>\n",
       "  <tbody>\n",
       "    <tr>\n",
       "      <th>0</th>\n",
       "      <td>1</td>\n",
       "      <td>0.00632</td>\n",
       "      <td>18.0</td>\n",
       "      <td>2.31</td>\n",
       "      <td>0</td>\n",
       "      <td>0.538</td>\n",
       "      <td>6.575</td>\n",
       "      <td>65.2</td>\n",
       "      <td>4.0900</td>\n",
       "      <td>1</td>\n",
       "      <td>296</td>\n",
       "      <td>15.3</td>\n",
       "      <td>396.90</td>\n",
       "      <td>4.98</td>\n",
       "      <td>24.0</td>\n",
       "    </tr>\n",
       "    <tr>\n",
       "      <th>1</th>\n",
       "      <td>2</td>\n",
       "      <td>0.02731</td>\n",
       "      <td>0.0</td>\n",
       "      <td>7.07</td>\n",
       "      <td>0</td>\n",
       "      <td>0.469</td>\n",
       "      <td>6.421</td>\n",
       "      <td>78.9</td>\n",
       "      <td>4.9671</td>\n",
       "      <td>2</td>\n",
       "      <td>242</td>\n",
       "      <td>17.8</td>\n",
       "      <td>396.90</td>\n",
       "      <td>9.14</td>\n",
       "      <td>21.6</td>\n",
       "    </tr>\n",
       "    <tr>\n",
       "      <th>2</th>\n",
       "      <td>4</td>\n",
       "      <td>0.03237</td>\n",
       "      <td>0.0</td>\n",
       "      <td>2.18</td>\n",
       "      <td>0</td>\n",
       "      <td>0.458</td>\n",
       "      <td>6.998</td>\n",
       "      <td>45.8</td>\n",
       "      <td>6.0622</td>\n",
       "      <td>3</td>\n",
       "      <td>222</td>\n",
       "      <td>18.7</td>\n",
       "      <td>394.63</td>\n",
       "      <td>2.94</td>\n",
       "      <td>33.4</td>\n",
       "    </tr>\n",
       "    <tr>\n",
       "      <th>3</th>\n",
       "      <td>5</td>\n",
       "      <td>0.06905</td>\n",
       "      <td>0.0</td>\n",
       "      <td>2.18</td>\n",
       "      <td>0</td>\n",
       "      <td>0.458</td>\n",
       "      <td>7.147</td>\n",
       "      <td>54.2</td>\n",
       "      <td>6.0622</td>\n",
       "      <td>3</td>\n",
       "      <td>222</td>\n",
       "      <td>18.7</td>\n",
       "      <td>396.90</td>\n",
       "      <td>5.33</td>\n",
       "      <td>36.2</td>\n",
       "    </tr>\n",
       "    <tr>\n",
       "      <th>4</th>\n",
       "      <td>7</td>\n",
       "      <td>0.08829</td>\n",
       "      <td>12.5</td>\n",
       "      <td>7.87</td>\n",
       "      <td>0</td>\n",
       "      <td>0.524</td>\n",
       "      <td>6.012</td>\n",
       "      <td>66.6</td>\n",
       "      <td>5.5605</td>\n",
       "      <td>5</td>\n",
       "      <td>311</td>\n",
       "      <td>15.2</td>\n",
       "      <td>395.60</td>\n",
       "      <td>12.43</td>\n",
       "      <td>22.9</td>\n",
       "    </tr>\n",
       "  </tbody>\n",
       "</table>\n",
       "</div>"
      ],
      "text/plain": [
       "   ID     crim    zn  indus  chas    nox     rm   age     dis  rad  tax  \\\n",
       "0   1  0.00632  18.0   2.31     0  0.538  6.575  65.2  4.0900    1  296   \n",
       "1   2  0.02731   0.0   7.07     0  0.469  6.421  78.9  4.9671    2  242   \n",
       "2   4  0.03237   0.0   2.18     0  0.458  6.998  45.8  6.0622    3  222   \n",
       "3   5  0.06905   0.0   2.18     0  0.458  7.147  54.2  6.0622    3  222   \n",
       "4   7  0.08829  12.5   7.87     0  0.524  6.012  66.6  5.5605    5  311   \n",
       "\n",
       "   ptratio   black  lstat  medv  \n",
       "0     15.3  396.90   4.98  24.0  \n",
       "1     17.8  396.90   9.14  21.6  \n",
       "2     18.7  394.63   2.94  33.4  \n",
       "3     18.7  396.90   5.33  36.2  \n",
       "4     15.2  395.60  12.43  22.9  "
      ]
     },
     "execution_count": 1,
     "metadata": {},
     "output_type": "execute_result"
    }
   ],
   "source": [
    "import pandas as pd\n",
    "import numpy as np\n",
    "import matplotlib.pyplot as plt\n",
    "import matplotlib.pyplot as plt\n",
    "\n",
    "# Seperate the features and target value from the train.csv\n",
    "# features 十三维的特征\n",
    "# 目标值是房价： prices\n",
    "data = pd.read_csv('../Row_Data/train.csv')\n",
    "features = data.drop('medv', axis = 1)\n",
    "prices = data['medv']\n",
    "data.head()"
   ]
  },
  {
   "cell_type": "code",
   "execution_count": 2,
   "metadata": {},
   "outputs": [
    {
     "name": "stdout",
     "output_type": "stream",
     "text": [
      "Statistics for Boston housing dataset:\n",
      "Minimum price: \t$ 5.0\n",
      "Maximum price: \t$ 50.0\n",
      "Mean price: \t$ 22.76876876876877\n",
      "Median price: \t$ 21.6\n",
      "Standard deviation of prices: \t$ 9.159683694919632\n"
     ]
    }
   ],
   "source": [
    "#目标：计算房价的最小值\n",
    "minimum_price = min(prices)\n",
    "\n",
    "#目标：计算房价的最大值\n",
    "maximum_price = max(prices)\n",
    "\n",
    "#目标：计算房价的平均值\n",
    "mean_price = np.mean(prices)\n",
    "\n",
    "#目标：计算房价的中值\n",
    "median_price = np.median(prices)\n",
    "\n",
    "#目标：计算房价的标准差\n",
    "std_price = np.std(prices)\n",
    "\n",
    "#目标：输出计算的结果\n",
    "print(\"Statistics for Boston housing dataset:\")\n",
    "print(\"Minimum price: \\t$\", minimum_price)\n",
    "print(\"Maximum price: \\t$\", maximum_price)\n",
    "print(\"Mean price: \\t$\", mean_price)\n",
    "print(\"Median price: \\t$\", median_price)\n",
    "print(\"Standard deviation of prices: \\t$\", std_price)"
   ]
  },
  {
   "cell_type": "code",
   "execution_count": 3,
   "metadata": {},
   "outputs": [
    {
     "data": {
      "text/html": [
       "<div>\n",
       "<style scoped>\n",
       "    .dataframe tbody tr th:only-of-type {\n",
       "        vertical-align: middle;\n",
       "    }\n",
       "\n",
       "    .dataframe tbody tr th {\n",
       "        vertical-align: top;\n",
       "    }\n",
       "\n",
       "    .dataframe thead th {\n",
       "        text-align: right;\n",
       "    }\n",
       "</style>\n",
       "<table border=\"1\" class=\"dataframe\">\n",
       "  <thead>\n",
       "    <tr style=\"text-align: right;\">\n",
       "      <th></th>\n",
       "      <th>ID</th>\n",
       "      <th>crim</th>\n",
       "      <th>zn</th>\n",
       "      <th>indus</th>\n",
       "      <th>chas</th>\n",
       "      <th>nox</th>\n",
       "      <th>rm</th>\n",
       "      <th>age</th>\n",
       "      <th>dis</th>\n",
       "      <th>rad</th>\n",
       "      <th>tax</th>\n",
       "      <th>ptratio</th>\n",
       "      <th>black</th>\n",
       "      <th>lstat</th>\n",
       "    </tr>\n",
       "  </thead>\n",
       "  <tbody>\n",
       "    <tr>\n",
       "      <th>0</th>\n",
       "      <td>1</td>\n",
       "      <td>0.00632</td>\n",
       "      <td>18.0</td>\n",
       "      <td>2.31</td>\n",
       "      <td>0</td>\n",
       "      <td>0.538</td>\n",
       "      <td>6.575</td>\n",
       "      <td>65.2</td>\n",
       "      <td>4.0900</td>\n",
       "      <td>1</td>\n",
       "      <td>296</td>\n",
       "      <td>15.3</td>\n",
       "      <td>396.90</td>\n",
       "      <td>4.98</td>\n",
       "    </tr>\n",
       "    <tr>\n",
       "      <th>1</th>\n",
       "      <td>2</td>\n",
       "      <td>0.02731</td>\n",
       "      <td>0.0</td>\n",
       "      <td>7.07</td>\n",
       "      <td>0</td>\n",
       "      <td>0.469</td>\n",
       "      <td>6.421</td>\n",
       "      <td>78.9</td>\n",
       "      <td>4.9671</td>\n",
       "      <td>2</td>\n",
       "      <td>242</td>\n",
       "      <td>17.8</td>\n",
       "      <td>396.90</td>\n",
       "      <td>9.14</td>\n",
       "    </tr>\n",
       "    <tr>\n",
       "      <th>2</th>\n",
       "      <td>4</td>\n",
       "      <td>0.03237</td>\n",
       "      <td>0.0</td>\n",
       "      <td>2.18</td>\n",
       "      <td>0</td>\n",
       "      <td>0.458</td>\n",
       "      <td>6.998</td>\n",
       "      <td>45.8</td>\n",
       "      <td>6.0622</td>\n",
       "      <td>3</td>\n",
       "      <td>222</td>\n",
       "      <td>18.7</td>\n",
       "      <td>394.63</td>\n",
       "      <td>2.94</td>\n",
       "    </tr>\n",
       "    <tr>\n",
       "      <th>3</th>\n",
       "      <td>5</td>\n",
       "      <td>0.06905</td>\n",
       "      <td>0.0</td>\n",
       "      <td>2.18</td>\n",
       "      <td>0</td>\n",
       "      <td>0.458</td>\n",
       "      <td>7.147</td>\n",
       "      <td>54.2</td>\n",
       "      <td>6.0622</td>\n",
       "      <td>3</td>\n",
       "      <td>222</td>\n",
       "      <td>18.7</td>\n",
       "      <td>396.90</td>\n",
       "      <td>5.33</td>\n",
       "    </tr>\n",
       "    <tr>\n",
       "      <th>4</th>\n",
       "      <td>7</td>\n",
       "      <td>0.08829</td>\n",
       "      <td>12.5</td>\n",
       "      <td>7.87</td>\n",
       "      <td>0</td>\n",
       "      <td>0.524</td>\n",
       "      <td>6.012</td>\n",
       "      <td>66.6</td>\n",
       "      <td>5.5605</td>\n",
       "      <td>5</td>\n",
       "      <td>311</td>\n",
       "      <td>15.2</td>\n",
       "      <td>395.60</td>\n",
       "      <td>12.43</td>\n",
       "    </tr>\n",
       "  </tbody>\n",
       "</table>\n",
       "</div>"
      ],
      "text/plain": [
       "   ID     crim    zn  indus  chas    nox     rm   age     dis  rad  tax  \\\n",
       "0   1  0.00632  18.0   2.31     0  0.538  6.575  65.2  4.0900    1  296   \n",
       "1   2  0.02731   0.0   7.07     0  0.469  6.421  78.9  4.9671    2  242   \n",
       "2   4  0.03237   0.0   2.18     0  0.458  6.998  45.8  6.0622    3  222   \n",
       "3   5  0.06905   0.0   2.18     0  0.458  7.147  54.2  6.0622    3  222   \n",
       "4   7  0.08829  12.5   7.87     0  0.524  6.012  66.6  5.5605    5  311   \n",
       "\n",
       "   ptratio   black  lstat  \n",
       "0     15.3  396.90   4.98  \n",
       "1     17.8  396.90   9.14  \n",
       "2     18.7  394.63   2.94  \n",
       "3     18.7  396.90   5.33  \n",
       "4     15.2  395.60  12.43  "
      ]
     },
     "execution_count": 3,
     "metadata": {},
     "output_type": "execute_result"
    }
   ],
   "source": [
    "features.head()"
   ]
  },
  {
   "cell_type": "markdown",
   "metadata": {},
   "source": [
    "##### 1.2 先随便挑选几个特征来可视化 "
   ]
  },
  {
   "cell_type": "code",
   "execution_count": 4,
   "metadata": {},
   "outputs": [
    {
     "data": {
      "image/png": "[encoded data removed]",
      "text/plain": [
       "<Figure size 432x288 with 1 Axes>"
      ]
     },
     "metadata": {
      "needs_background": "light"
     },
     "output_type": "display_data"
    },
    {
     "data": {
      "image/png": "[encoded data removed]",
      "text/plain": [
       "<Figure size 432x288 with 1 Axes>"
      ]
     },
     "metadata": {
      "needs_background": "light"
     },
     "output_type": "display_data"
    },
    {
     "data": {
      "image/png": "[encoded data removed]",
      "text/plain": [
       "<Figure size 432x288 with 1 Axes>"
      ]
     },
     "metadata": {
      "needs_background": "light"
     },
     "output_type": "display_data"
    },
    {
     "data": {
      "image/png": "[encoded data removed]",
      "text/plain": [
       "<Figure size 432x288 with 1 Axes>"
      ]
     },
     "metadata": {
      "needs_background": "light"
     },
     "output_type": "display_data"
    }
   ],
   "source": [
    "# 画出 features.crim 图像\n",
    "plt.figure()\n",
    "plt.plot(features.crim, color=\"cornflowerblue\", label=\"crim\", linewidth=1)\n",
    "plt.ylabel(\"crim\")\n",
    "plt.title(\"The first feature: crim\\n\")\n",
    "plt.legend()\n",
    "plt.show()\n",
    "\n",
    "# 画出 features.zn 图像\n",
    "plt.figure()\n",
    "plt.plot(features.zn, color=\"yellowgreen\", label=\"zn\", linewidth=1)\n",
    "plt.ylabel(\"zn\")\n",
    "plt.title(\"The second feature: zn\\n\")\n",
    "plt.legend()\n",
    "plt.show()\n",
    "\n",
    "# 画出 features.indus 图像\n",
    "plt.figure()\n",
    "plt.plot(features.indus, color=\"red\", label=\"indus\", linewidth=1)\n",
    "plt.ylabel(\"indus\")\n",
    "plt.title(\"The third feature: indus\\n\")\n",
    "plt.legend()\n",
    "plt.show()\n",
    "\n",
    "# 画出 values 图像\n",
    "plt.figure()\n",
    "plt.plot(prices, color=\"black\", label=\"medv\", linewidth=1)\n",
    "plt.ylabel(\"medv\")\n",
    "plt.title(\"The target value: medv\\n\")\n",
    "plt.legend()\n",
    "plt.show()"
   ]
  },
  {
   "cell_type": "markdown",
   "metadata": {},
   "source": [
    "#### 2. 数据清洗\n",
    "##### 2.1 缺失值处理"
   ]
  },
  {
   "cell_type": "code",
   "execution_count": 5,
   "metadata": {},
   "outputs": [],
   "source": [
    "# 缺失值处理\n",
    "\n",
    "\n"
   ]
  },
  {
   "cell_type": "markdown",
   "metadata": {},
   "source": [
    "##### 2.2 异常值处理"
   ]
  },
  {
   "cell_type": "code",
   "execution_count": 6,
   "metadata": {},
   "outputs": [],
   "source": [
    "# 异常值处理\n",
    "\n",
    "\n"
   ]
  },
  {
   "cell_type": "markdown",
   "metadata": {},
   "source": [
    "##### 2.3 去除重复的数据"
   ]
  },
  {
   "cell_type": "code",
   "execution_count": 7,
   "metadata": {},
   "outputs": [],
   "source": [
    "# 去除重复的数据\n",
    "\n",
    "\n"
   ]
  },
  {
   "cell_type": "markdown",
   "metadata": {},
   "source": [
    "##### 2.4 噪音数据的处理"
   ]
  },
  {
   "cell_type": "code",
   "execution_count": 8,
   "metadata": {},
   "outputs": [],
   "source": [
    "# 噪音数据的处理\n",
    "\n",
    "\n"
   ]
  },
  {
   "cell_type": "markdown",
   "metadata": {},
   "source": [
    "#### 3. 特征提取\n",
    "##### 3.1 主成分分析 （PCA）"
   ]
  },
  {
   "cell_type": "code",
   "execution_count": 11,
   "metadata": {},
   "outputs": [],
   "source": [
    "# PCA\n",
    "\n",
    "\n"
   ]
  },
  {
   "cell_type": "markdown",
   "metadata": {},
   "source": [
    "##### 3.2 线性判别分析法（LDA）"
   ]
  },
  {
   "cell_type": "code",
   "execution_count": 12,
   "metadata": {},
   "outputs": [],
   "source": [
    "# LDA\n",
    "\n",
    "\n"
   ]
  },
  {
   "cell_type": "markdown",
   "metadata": {},
   "source": [
    "#### 4. 划分训练集/验证集\n",
    "##### 4.1 归一化"
   ]
  },
  {
   "cell_type": "markdown",
   "metadata": {},
   "source": [
    "#### 因为各个 feature 的取值范围区别较大，所以用 minmax_normalization 对数据进行归一化.\n",
    "#### 这样可以把每个 feature 都压缩到 0-1 的范围.                               \n",
    "#### 常用的最小最大规范化方法：\n",
    "$$\\hat x = {\\frac{x - min(x)}{max(x) - min(x)}}$$"
   ]
  },
  {
   "cell_type": "code",
   "execution_count": 22,
   "metadata": {},
   "outputs": [],
   "source": [
    "# 自定义一个最小最大规范化的函数\n",
    "def minmax_normalization(data):\n",
    "    xs_max = np.max(data, axis=0)\n",
    "    xs_min = np.min(data, axis=0)\n",
    "    xs = (1 - 0) * (data - xs_min) / (xs_max - xs_min) + 0\n",
    "    return xs"
   ]
  },
  {
   "cell_type": "code",
   "execution_count": 23,
   "metadata": {},
   "outputs": [
    {
     "data": {
      "text/html": [
       "<div>\n",
       "<style scoped>\n",
       "    .dataframe tbody tr th:only-of-type {\n",
       "        vertical-align: middle;\n",
       "    }\n",
       "\n",
       "    .dataframe tbody tr th {\n",
       "        vertical-align: top;\n",
       "    }\n",
       "\n",
       "    .dataframe thead th {\n",
       "        text-align: right;\n",
       "    }\n",
       "</style>\n",
       "<table border=\"1\" class=\"dataframe\">\n",
       "  <thead>\n",
       "    <tr style=\"text-align: right;\">\n",
       "      <th></th>\n",
       "      <th>ID</th>\n",
       "      <th>crim</th>\n",
       "      <th>zn</th>\n",
       "      <th>indus</th>\n",
       "      <th>chas</th>\n",
       "      <th>nox</th>\n",
       "      <th>rm</th>\n",
       "      <th>age</th>\n",
       "      <th>dis</th>\n",
       "      <th>rad</th>\n",
       "      <th>tax</th>\n",
       "      <th>ptratio</th>\n",
       "      <th>black</th>\n",
       "      <th>lstat</th>\n",
       "      <th>medv</th>\n",
       "    </tr>\n",
       "  </thead>\n",
       "  <tbody>\n",
       "    <tr>\n",
       "      <th>0</th>\n",
       "      <td>0.000000</td>\n",
       "      <td>0.000000</td>\n",
       "      <td>0.180</td>\n",
       "      <td>0.058148</td>\n",
       "      <td>0.0</td>\n",
       "      <td>0.314815</td>\n",
       "      <td>0.583656</td>\n",
       "      <td>0.629787</td>\n",
       "      <td>0.308996</td>\n",
       "      <td>0.000000</td>\n",
       "      <td>0.206501</td>\n",
       "      <td>0.313953</td>\n",
       "      <td>1.000000</td>\n",
       "      <td>0.089680</td>\n",
       "      <td>0.422222</td>\n",
       "    </tr>\n",
       "    <tr>\n",
       "      <th>1</th>\n",
       "      <td>0.001980</td>\n",
       "      <td>0.000285</td>\n",
       "      <td>0.000</td>\n",
       "      <td>0.234444</td>\n",
       "      <td>0.0</td>\n",
       "      <td>0.172840</td>\n",
       "      <td>0.553834</td>\n",
       "      <td>0.775532</td>\n",
       "      <td>0.400545</td>\n",
       "      <td>0.043478</td>\n",
       "      <td>0.103250</td>\n",
       "      <td>0.604651</td>\n",
       "      <td>1.000000</td>\n",
       "      <td>0.204470</td>\n",
       "      <td>0.368889</td>\n",
       "    </tr>\n",
       "    <tr>\n",
       "      <th>2</th>\n",
       "      <td>0.005941</td>\n",
       "      <td>0.000354</td>\n",
       "      <td>0.000</td>\n",
       "      <td>0.053333</td>\n",
       "      <td>0.0</td>\n",
       "      <td>0.150206</td>\n",
       "      <td>0.665569</td>\n",
       "      <td>0.423404</td>\n",
       "      <td>0.514848</td>\n",
       "      <td>0.086957</td>\n",
       "      <td>0.065010</td>\n",
       "      <td>0.709302</td>\n",
       "      <td>0.994230</td>\n",
       "      <td>0.033389</td>\n",
       "      <td>0.631111</td>\n",
       "    </tr>\n",
       "    <tr>\n",
       "      <th>3</th>\n",
       "      <td>0.007921</td>\n",
       "      <td>0.000853</td>\n",
       "      <td>0.000</td>\n",
       "      <td>0.053333</td>\n",
       "      <td>0.0</td>\n",
       "      <td>0.150206</td>\n",
       "      <td>0.694423</td>\n",
       "      <td>0.512766</td>\n",
       "      <td>0.514848</td>\n",
       "      <td>0.086957</td>\n",
       "      <td>0.065010</td>\n",
       "      <td>0.709302</td>\n",
       "      <td>1.000000</td>\n",
       "      <td>0.099338</td>\n",
       "      <td>0.693333</td>\n",
       "    </tr>\n",
       "    <tr>\n",
       "      <th>4</th>\n",
       "      <td>0.011881</td>\n",
       "      <td>0.001115</td>\n",
       "      <td>0.125</td>\n",
       "      <td>0.264074</td>\n",
       "      <td>0.0</td>\n",
       "      <td>0.286008</td>\n",
       "      <td>0.474632</td>\n",
       "      <td>0.644681</td>\n",
       "      <td>0.462482</td>\n",
       "      <td>0.173913</td>\n",
       "      <td>0.235182</td>\n",
       "      <td>0.302326</td>\n",
       "      <td>0.996695</td>\n",
       "      <td>0.295254</td>\n",
       "      <td>0.397778</td>\n",
       "    </tr>\n",
       "  </tbody>\n",
       "</table>\n",
       "</div>"
      ],
      "text/plain": [
       "         ID      crim     zn     indus  chas       nox        rm       age  \\\n",
       "0  0.000000  0.000000  0.180  0.058148   0.0  0.314815  0.583656  0.629787   \n",
       "1  0.001980  0.000285  0.000  0.234444   0.0  0.172840  0.553834  0.775532   \n",
       "2  0.005941  0.000354  0.000  0.053333   0.0  0.150206  0.665569  0.423404   \n",
       "3  0.007921  0.000853  0.000  0.053333   0.0  0.150206  0.694423  0.512766   \n",
       "4  0.011881  0.001115  0.125  0.264074   0.0  0.286008  0.474632  0.644681   \n",
       "\n",
       "        dis       rad       tax   ptratio     black     lstat      medv  \n",
       "0  0.308996  0.000000  0.206501  0.313953  1.000000  0.089680  0.422222  \n",
       "1  0.400545  0.043478  0.103250  0.604651  1.000000  0.204470  0.368889  \n",
       "2  0.514848  0.086957  0.065010  0.709302  0.994230  0.033389  0.631111  \n",
       "3  0.514848  0.086957  0.065010  0.709302  1.000000  0.099338  0.693333  \n",
       "4  0.462482  0.173913  0.235182  0.302326  0.996695  0.295254  0.397778  "
      ]
     },
     "execution_count": 23,
     "metadata": {},
     "output_type": "execute_result"
    }
   ],
   "source": [
    "# 将 data 传入上面的规范化函数 \n",
    "# 规范化得到的数据存放在 m_n_data 中\n",
    "m_n_data = minmax_normalization(data);\n",
    "m_n_data.head()"
   ]
  },
  {
   "cell_type": "markdown",
   "metadata": {},
   "source": [
    "##### 4.2 划分训练集/验证集"
   ]
  },
  {
   "cell_type": "markdown",
   "metadata": {},
   "source": [
    "#### 分割比例为：80%的数据用于训练，20%用于测试 test_size = 0.2\n",
    "#### 将数据集分成训练集和测试集的好处：既可以用于训练又可以用于测试，而且不会相互干扰，而且可以对训练模型进行有效的验证。"
   ]
  },
  {
   "cell_type": "code",
   "execution_count": 27,
   "metadata": {},
   "outputs": [],
   "source": [
    "m_n_features = m_n_data.drop('medv', axis = 1)\n",
    "m_n_prices = m_n_data['medv']"
   ]
  },
  {
   "cell_type": "code",
   "execution_count": 29,
   "metadata": {},
   "outputs": [
    {
     "data": {
      "text/html": [
       "<div>\n",
       "<style scoped>\n",
       "    .dataframe tbody tr th:only-of-type {\n",
       "        vertical-align: middle;\n",
       "    }\n",
       "\n",
       "    .dataframe tbody tr th {\n",
       "        vertical-align: top;\n",
       "    }\n",
       "\n",
       "    .dataframe thead th {\n",
       "        text-align: right;\n",
       "    }\n",
       "</style>\n",
       "<table border=\"1\" class=\"dataframe\">\n",
       "  <thead>\n",
       "    <tr style=\"text-align: right;\">\n",
       "      <th></th>\n",
       "      <th>ID</th>\n",
       "      <th>crim</th>\n",
       "      <th>zn</th>\n",
       "      <th>indus</th>\n",
       "      <th>chas</th>\n",
       "      <th>nox</th>\n",
       "      <th>rm</th>\n",
       "      <th>age</th>\n",
       "      <th>dis</th>\n",
       "      <th>rad</th>\n",
       "      <th>tax</th>\n",
       "      <th>ptratio</th>\n",
       "      <th>black</th>\n",
       "      <th>lstat</th>\n",
       "    </tr>\n",
       "  </thead>\n",
       "  <tbody>\n",
       "    <tr>\n",
       "      <th>298</th>\n",
       "      <td>0.908911</td>\n",
       "      <td>0.092412</td>\n",
       "      <td>0.0</td>\n",
       "      <td>0.642963</td>\n",
       "      <td>0.0</td>\n",
       "      <td>0.674897</td>\n",
       "      <td>0.487994</td>\n",
       "      <td>0.834043</td>\n",
       "      <td>0.165739</td>\n",
       "      <td>1.000000</td>\n",
       "      <td>0.913958</td>\n",
       "      <td>0.883721</td>\n",
       "      <td>1.000000</td>\n",
       "      <td>0.357892</td>\n",
       "    </tr>\n",
       "    <tr>\n",
       "      <th>162</th>\n",
       "      <td>0.465347</td>\n",
       "      <td>0.004408</td>\n",
       "      <td>0.0</td>\n",
       "      <td>0.202222</td>\n",
       "      <td>0.0</td>\n",
       "      <td>0.251029</td>\n",
       "      <td>0.488962</td>\n",
       "      <td>0.590426</td>\n",
       "      <td>0.263269</td>\n",
       "      <td>0.304348</td>\n",
       "      <td>0.227533</td>\n",
       "      <td>0.558140</td>\n",
       "      <td>0.948780</td>\n",
       "      <td>0.252483</td>\n",
       "    </tr>\n",
       "    <tr>\n",
       "      <th>175</th>\n",
       "      <td>0.516832</td>\n",
       "      <td>0.007178</td>\n",
       "      <td>0.2</td>\n",
       "      <td>0.119630</td>\n",
       "      <td>0.0</td>\n",
       "      <td>0.539095</td>\n",
       "      <td>0.766654</td>\n",
       "      <td>0.887234</td>\n",
       "      <td>0.105441</td>\n",
       "      <td>0.173913</td>\n",
       "      <td>0.145315</td>\n",
       "      <td>0.046512</td>\n",
       "      <td>0.978317</td>\n",
       "      <td>0.152594</td>\n",
       "    </tr>\n",
       "    <tr>\n",
       "      <th>161</th>\n",
       "      <td>0.463366</td>\n",
       "      <td>0.006006</td>\n",
       "      <td>0.0</td>\n",
       "      <td>0.202222</td>\n",
       "      <td>1.0</td>\n",
       "      <td>0.251029</td>\n",
       "      <td>0.612897</td>\n",
       "      <td>0.643617</td>\n",
       "      <td>0.263269</td>\n",
       "      <td>0.304348</td>\n",
       "      <td>0.227533</td>\n",
       "      <td>0.558140</td>\n",
       "      <td>0.906711</td>\n",
       "      <td>0.174393</td>\n",
       "    </tr>\n",
       "    <tr>\n",
       "      <th>14</th>\n",
       "      <td>0.041584</td>\n",
       "      <td>0.011502</td>\n",
       "      <td>0.0</td>\n",
       "      <td>0.274074</td>\n",
       "      <td>0.0</td>\n",
       "      <td>0.314815</td>\n",
       "      <td>0.465531</td>\n",
       "      <td>0.885106</td>\n",
       "      <td>0.300886</td>\n",
       "      <td>0.130435</td>\n",
       "      <td>0.227533</td>\n",
       "      <td>0.976744</td>\n",
       "      <td>0.988892</td>\n",
       "      <td>0.333885</td>\n",
       "    </tr>\n",
       "  </tbody>\n",
       "</table>\n",
       "</div>"
      ],
      "text/plain": [
       "           ID      crim   zn     indus  chas       nox        rm       age  \\\n",
       "298  0.908911  0.092412  0.0  0.642963   0.0  0.674897  0.487994  0.834043   \n",
       "162  0.465347  0.004408  0.0  0.202222   0.0  0.251029  0.488962  0.590426   \n",
       "175  0.516832  0.007178  0.2  0.119630   0.0  0.539095  0.766654  0.887234   \n",
       "161  0.463366  0.006006  0.0  0.202222   1.0  0.251029  0.612897  0.643617   \n",
       "14   0.041584  0.011502  0.0  0.274074   0.0  0.314815  0.465531  0.885106   \n",
       "\n",
       "          dis       rad       tax   ptratio     black     lstat  \n",
       "298  0.165739  1.000000  0.913958  0.883721  1.000000  0.357892  \n",
       "162  0.263269  0.304348  0.227533  0.558140  0.948780  0.252483  \n",
       "175  0.105441  0.173913  0.145315  0.046512  0.978317  0.152594  \n",
       "161  0.263269  0.304348  0.227533  0.558140  0.906711  0.174393  \n",
       "14   0.300886  0.130435  0.227533  0.976744  0.988892  0.333885  "
      ]
     },
     "execution_count": 29,
     "metadata": {},
     "output_type": "execute_result"
    }
   ],
   "source": [
    "# Split the dataset as traing set and testing set\n",
    "from sklearn.model_selection import train_test_split\n",
    "X_train, X_test, y_train, y_test =  train_test_split(m_n_features, m_n_prices, test_size = 0.2, random_state = 1) # random_state=1:不会随机划分\n",
    "X_train.head()"
   ]
  },
  {
   "cell_type": "markdown",
   "metadata": {},
   "source": [
    "#### 5. 定义评估方法"
   ]
  },
  {
   "cell_type": "markdown",
   "metadata": {},
   "source": [
    "#### $SSE$ (最小化误差平方和 Sum of Squares for Error): $$SSE = {\\sum_{k=1}^n (y_i - \\hat y_i)^2}$$\n",
    "+ 其中：$n$ 是数据的条数\n",
    "#### $MSE$ (均方误差 Mean Squared Error): $$MSE = {\\frac{1} {n}}{\\sum_{k=1}^n (y_i - \\hat y_i)^2}$$\n",
    "+ $MSE$ 越接近 0 模型的性能越好，但是不全面\n",
    "#### 残差平方和公式: $$R^2(y, \\hat y) = {\\frac{\\sum_{k=1}^n (y_i - \\hat y_i)^2}{\\sum_{k=1}^n (y_i - \\overline y)^2}}$$\n",
    "+ 模型越好：$$R^2(y, \\hat y)→1$$\n",
    "+ 模型越差：$$R^2(y, \\hat y)→0$$"
   ]
  },
  {
   "cell_type": "code",
   "execution_count": 13,
   "metadata": {},
   "outputs": [],
   "source": [
    "# 自定义一个返回最终残差和的函数\n",
    "from sklearn.metrics import r2_score\n",
    "def performance_metric(y_true,y_predict):\n",
    "    '''计算实际值与预测值的R2分数'''\n",
    "    score = r2_score(y_true,y_predict)\n",
    "    return score"
   ]
  },
  {
   "cell_type": "markdown",
   "metadata": {},
   "source": [
    "#### 6. 构建神经网络\n",
    "##### 6.1 训练模型"
   ]
  },
  {
   "cell_type": "code",
   "execution_count": 14,
   "metadata": {},
   "outputs": [],
   "source": [
    "# DNN \n",
    "\n",
    "\n"
   ]
  },
  {
   "cell_type": "markdown",
   "metadata": {},
   "source": [
    "#### 7. 利用测试集评估学习结果"
   ]
  },
  {
   "cell_type": "code",
   "execution_count": 15,
   "metadata": {},
   "outputs": [],
   "source": [
    "# Evalution\n",
    "\n",
    "\n"
   ]
  }
 ],
 "metadata": {
  "kernelspec": {
   "display_name": "Python 3",
   "language": "python",
   "name": "python3"
  },
  "language_info": {
   "codemirror_mode": {
    "name": "ipython",
    "version": 3
   },
   "file_extension": ".py",
   "mimetype": "text/x-python",
   "name": "python",
   "nbconvert_exporter": "python",
   "pygments_lexer": "ipython3",
   "version": "3.6.8"
  }
 },
 "nbformat": 4,
 "nbformat_minor": 2
}
